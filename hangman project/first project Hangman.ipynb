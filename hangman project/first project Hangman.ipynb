{
 "cells": [
  {
   "cell_type": "code",
   "execution_count": 15,
   "metadata": {},
   "outputs": [],
   "source": [
    "import random\n",
    "from collections import Counter \n"
   ]
  },
  {
   "cell_type": "code",
   "execution_count": 16,
   "metadata": {},
   "outputs": [
    {
     "name": "stdout",
     "output_type": "stream",
     "text": [
      "please enter your name: tasnim\n",
      "Hello tasnim you are about to play Hangman game, Are you ready!\n",
      "please write yes if you are ready : yes\n"
     ]
    }
   ],
   "source": [
    "someWords='''apple banana mango lemon'''\n",
    "someWords= someWords.split(\" \")\n",
    "word= random.choice(someWords)\n",
    "user= str(input('please enter your name: '))\n",
    "print(f\"Hello {user} you are about to play Hangman game, Are you ready!\")\n",
    "ready=str(input(\"please write yes if you are ready : \"))"
   ]
  },
  {
   "cell_type": "code",
   "execution_count": null,
   "metadata": {},
   "outputs": [],
   "source": [
    "\n"
   ]
  },
  {
   "cell_type": "code",
   "execution_count": 17,
   "metadata": {},
   "outputs": [
    {
     "name": "stdout",
     "output_type": "stream",
     "text": [
      "let's start our game \n",
      "Enter a letter: b\n"
     ]
    }
   ],
   "source": [
    "if ready.strip().lower() == 'yes':\n",
    "    print(\"let's start our game \")\n",
    "    guess=str(input('Enter a letter: '))\n",
    "    \n",
    "    playing= 'yes'\n",
    "    while playing=='yes':\n",
    "        word= random.choice(someWords)\n",
    "        letterGuessed= ''\n",
    "        chances= len(word)+2\n",
    "        correct=0\n",
    "        flag=0\n",
    "        print('Guess the word! Hint: word name is fruit')\n",
    "        for l in word:\n",
    "            print('_', end=' ')\n",
    "        \n",
    "    \n",
    "    \n",
    "    \n",
    "    if not guess.isalpha():\n",
    "    print(\"Enter only a letter\")\n",
    "  \n",
    "    elif len(guess)>1:\n",
    "    print(\"Enter 1 letter only\")\n",
    "    elif guess in letterGuessed:\n",
    "    print(\"you already guessed that letter before\")\n",
    "    \n",
    "    \n",
    "    \n",
    "    \n",
    "    \n",
    "    \n",
    "    \n",
    "    \n",
    "    \n",
    "    \n",
    "    \n",
    "    \n",
    "    \n",
    "    \n",
    "    \n",
    "    \n",
    "    \n",
    "    \n",
    "    \n",
    "    \n",
    "    \n",
    "    \n",
    "    \n",
    "    \n",
    "    \n",
    "    \n",
    "    \n",
    "    \n",
    "    \n",
    "else:\n",
    "    print(\"no problem you can play it later\")\n",
    "    "
   ]
  },
  {
   "cell_type": "code",
   "execution_count": 18,
   "metadata": {},
   "outputs": [],
   "source": []
  },
  {
   "cell_type": "code",
   "execution_count": 19,
   "metadata": {},
   "outputs": [],
   "source": [
    "if not guess.isalpha():\n",
    "    print(\"Enter only a letter\")\n",
    "  \n",
    "elif len(guess)>1:\n",
    "    print(\"Enter 1 letter only\")\n",
    "elif guess in letterGuessed:\n",
    "    print(\"you already guessed that letter before\")\n",
    "\n"
   ]
  },
  {
   "cell_type": "code",
   "execution_count": null,
   "metadata": {},
   "outputs": [],
   "source": []
  },
  {
   "cell_type": "code",
   "execution_count": null,
   "metadata": {},
   "outputs": [],
   "source": []
  },
  {
   "cell_type": "code",
   "execution_count": 20,
   "metadata": {},
   "outputs": [],
   "source": [
    "if guess in word:\n",
    "    k=word.count(guess)\n",
    "    for _ in range(k):\n",
    "        letterGuessed += guess\n"
   ]
  },
  {
   "cell_type": "code",
   "execution_count": 21,
   "metadata": {},
   "outputs": [],
   "source": [
    "word='banana'\n",
    "letterGuessed= ''"
   ]
  },
  {
   "cell_type": "code",
   "execution_count": 22,
   "metadata": {},
   "outputs": [
    {
     "name": "stdout",
     "output_type": "stream",
     "text": [
      "_ _ _ _ _ _ "
     ]
    }
   ],
   "source": [
    "#print the word    counter da bydeny el 7rof we 3ddha mtkrra kam mra\n",
    "for char in word:\n",
    "    if char in letterGuessed and (Counter(letterGuessed)!= Counter(word)):\n",
    "        print(char, end=' ')\n",
    "        correct+=1\n",
    "        # if user guessed all the letters \n",
    "    elif (Counter(letterGuessed)==Counter(word)):\n",
    "        print(' the word is: ', end=' ')\n",
    "        print(word)\n",
    "        flag=1 # flag is the stopping criteria  break the while loop\n",
    "        print('Congrats you won the game')\n",
    "        break  # to break the for loop\n",
    "    else:  # if the given letter is wrong \n",
    "        print('_', end=' ')\n",
    "        "
   ]
  },
  {
   "cell_type": "code",
   "execution_count": 25,
   "metadata": {},
   "outputs": [],
   "source": [
    "   print('_', end=' ')"
   ]
  },
  {
   "cell_type": "code",
   "execution_count": null,
   "metadata": {},
   "outputs": [],
   "source": []
  },
  {
   "cell_type": "code",
   "execution_count": 24,
   "metadata": {},
   "outputs": [
    {
     "name": "stdout",
     "output_type": "stream",
     "text": [
      "\n",
      " you lost ! Try again \n",
      " the word was banana\n"
     ]
    }
   ],
   "source": [
    "#if user has used all of his chances\n",
    "if chances==0 and (Counter(letterGuessed) != Counter(word)):\n",
    "    print()\n",
    "    print(' you lost ! Try again ')\n",
    "    print(' the word was {}'.format(word))"
   ]
  },
  {
   "cell_type": "code",
   "execution_count": null,
   "metadata": {},
   "outputs": [],
   "source": []
  },
  {
   "cell_type": "code",
   "execution_count": null,
   "metadata": {},
   "outputs": [],
   "source": []
  }
 ],
 "metadata": {
  "kernelspec": {
   "display_name": "Python 3",
   "language": "python",
   "name": "python3"
  },
  "language_info": {
   "codemirror_mode": {
    "name": "ipython",
    "version": 3
   },
   "file_extension": ".py",
   "mimetype": "text/x-python",
   "name": "python",
   "nbconvert_exporter": "python",
   "pygments_lexer": "ipython3",
   "version": "3.7.6"
  }
 },
 "nbformat": 4,
 "nbformat_minor": 4
}
